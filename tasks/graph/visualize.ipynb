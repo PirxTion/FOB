{
 "cells": [
  {
   "cell_type": "markdown",
   "metadata": {},
   "source": [
    "# How the data looks\n",
    "\n",
    "for this notwbook you need to additionally install [```rdkit```](https://www.rdkit.org/)\n",
    "\n",
    "```pip install rdkit```\n"
   ]
  },
  {
   "cell_type": "markdown",
   "metadata": {},
   "source": [
    "First of all we need to open the ogb-molhiv data"
   ]
  },
  {
   "cell_type": "code",
   "execution_count": 174,
   "metadata": {},
   "outputs": [],
   "source": [
    "# Thanke to https://github.com/snap-stanford/ogb/issues/109 for this snippet\n",
    "\n",
    "import pandas as pd\n",
    "from rdkit.Chem.rdmolfiles import MolFromSmiles\n",
    "from rdkit.Chem.Draw import MolToImage, IPythonConsole #Needed to show molecules\n",
    "from pathlib import Path\n",
    "\n",
    "# Load Data (assumes you have downloaded the data at data root)\n",
    "data_root = Path(\"/work/dlclarge2/haeringz-bigdata/data/\")\n",
    "file = \"graph/ogbg_molhiv/mapping/mol.csv.gz\"\n",
    "molhiv_df = pd.read_csv(data_root / file)"
   ]
  },
  {
   "cell_type": "markdown",
   "metadata": {},
   "source": [
    "Make sure that the table is looking fine!\n",
    "\n",
    "And take a random molecule"
   ]
  },
  {
   "cell_type": "code",
   "execution_count": 175,
   "metadata": {},
   "outputs": [
    {
     "name": "stdout",
     "output_type": "stream",
     "text": [
      "   HIV_active                                             smiles  mol_id\n",
      "0           0  CCC1=[O+][Cu-3]2([O+]=C(CC)C1)[O+]=C(CC)CC(CC)...     NaN\n",
      "1           0  C(=Cc1ccccc1)C1=[O+][Cu-3]2([O+]=C(C=Cc3ccccc3...     NaN\n",
      "2           0                   CC(=O)N1c2ccccc2Sc2c1ccc1ccccc21     NaN\n",
      "3           0    Nc1ccc(C=Cc2ccc(N)cc2S(=O)(=O)O)c(S(=O)(=O)O)c1     NaN\n",
      "4           0                             O=S(=O)(O)CCS(=O)(=O)O     NaN\n",
      "There are a total of 41127 molecules given, we are looking at number 38957\n",
      "O=C(NNC(=O)c1ccccc1O)c1ccc(O)cc1\n"
     ]
    }
   ],
   "source": [
    "# Peek into the table\n",
    "head = molhiv_df.head(5)\n",
    "print(head)\n",
    "\n",
    "row_count = len(molhiv_df.index)\n",
    "from random import randint\n",
    "rand_mol_idx = randint(0, row_count - 1)\n",
    "print(f\"There are a total of {row_count} molecules given, we are looking at number {rand_mol_idx+1}\")\n",
    "\n",
    "# look at the *smile* representation of one molecule\n",
    "smiles = molhiv_df.smiles[rand_mol_idx ]\n",
    "print(smiles)"
   ]
  },
  {
   "cell_type": "markdown",
   "metadata": {},
   "source": [
    "We can use an online Database to get more information on the molecules"
   ]
  },
  {
   "cell_type": "code",
   "execution_count": 176,
   "metadata": {},
   "outputs": [
    {
     "name": "stdout",
     "output_type": "stream",
     "text": [
      "The molecule: 'O=C(NNC(=O)c1ccccc1O)c1ccc(O)cc1'\n",
      " has the IUPAC name '2-hydroxy-N'-(4-hydroxybenzoyl)benzohydrazide' and\n",
      " chemical formula 'C14H12N2O4'\n"
     ]
    }
   ],
   "source": [
    "from urllib.request import urlopen\n",
    "\n",
    "def CIRconvert(smi):\n",
    "    base = \"https://cactus.nci.nih.gov/chemical/structure/\" + smi\n",
    "    try:\n",
    "        url = base + \"/iupac_name\" \n",
    "        ans = urlopen(url).read().decode('utf8')\n",
    "        name = ans\n",
    "    except:\n",
    "        name = 'Name Not Available'\n",
    "\n",
    "    try:\n",
    "        url = base + \"/formula\" \n",
    "        ans = urlopen(url).read().decode('utf8')\n",
    "        formula = ans\n",
    "    except:\n",
    "        formula = 'Formula Not Available'\n",
    "\n",
    "    return name, formula\n",
    "\n",
    "name, formula = CIRconvert(smiles)\n",
    "print(f\"The molecule: '{smiles}'\\n has the IUPAC name '{name}' and\\n chemical formula '{formula}'\")"
   ]
  },
  {
   "cell_type": "markdown",
   "metadata": {},
   "source": [
    "Lets have a look at the structure of the molecule!\n",
    "\n",
    "feel free to change the bool to add the plot to the readme!"
   ]
  },
  {
   "cell_type": "code",
   "execution_count": 177,
   "metadata": {},
   "outputs": [
    {
     "data": {
      "image/jpeg": "[encoded data removed]",
      "image/png": "[encoded data removed]",
      "text/plain": [
       "<PIL.PngImagePlugin.PngImageFile image mode=RGB size=300x300>"
      ]
     },
     "execution_count": 177,
     "metadata": {},
     "output_type": "execute_result"
    }
   ],
   "source": [
    "mol = MolFromSmiles(smiles)\n",
    "from PIL.Image import Image\n",
    "SAVE_PLOT_FOR_README: bool = True\n",
    "\n",
    "img: Image = MolToImage(mol)\n",
    "\n",
    "if SAVE_PLOT_FOR_README:\n",
    "    plot_name = \"random_molecule.png\"\n",
    "    img.save(plot_name)\n",
    "\n",
    "img"
   ]
  },
  {
   "cell_type": "markdown",
   "metadata": {},
   "source": [
    "OGB uses [this script](https://github.com/snap-stanford/ogb/blob/master/ogb/utils/mol.py) to transform the molecules into graph objects.\n",
    "\n",
    "The `PygGraphPropPredDataset` will take care of this."
   ]
  },
  {
   "cell_type": "code",
   "execution_count": 178,
   "metadata": {},
   "outputs": [
    {
     "name": "stdout",
     "output_type": "stream",
     "text": [
      "{'edge_index': array([[ 0,  1,  1,  2,  2,  3,  3,  4,  4,  5,  4,  6,  6,  7,  7,  8,\n",
      "         8,  9,  9, 10, 10, 11, 11, 12,  1, 13, 13, 14, 14, 15, 15, 16,\n",
      "        16, 17, 16, 18, 18, 19, 11,  6, 19, 13],\n",
      "       [ 1,  0,  2,  1,  3,  2,  4,  3,  5,  4,  6,  4,  7,  6,  8,  7,\n",
      "         9,  8, 10,  9, 11, 10, 12, 11, 13,  1, 14, 13, 15, 14, 16, 15,\n",
      "        17, 16, 18, 16, 19, 18,  6, 11, 13, 19]]), 'edge_feat': array([[1, 0, 1],\n",
      "       [1, 0, 1],\n",
      "       [0, 0, 1],\n",
      "       [0, 0, 1],\n",
      "       [0, 0, 0],\n",
      "       [0, 0, 0],\n",
      "       [0, 0, 1],\n",
      "       [0, 0, 1],\n",
      "       [1, 0, 1],\n",
      "       [1, 0, 1],\n",
      "       [0, 0, 1],\n",
      "       [0, 0, 1],\n",
      "       [3, 0, 1],\n",
      "       [3, 0, 1],\n",
      "       [3, 0, 1],\n",
      "       [3, 0, 1],\n",
      "       [3, 0, 1],\n",
      "       [3, 0, 1],\n",
      "       [3, 0, 1],\n",
      "       [3, 0, 1],\n",
      "       [3, 0, 1],\n",
      "       [3, 0, 1],\n",
      "       [0, 0, 1],\n",
      "       [0, 0, 1],\n",
      "       [0, 0, 1],\n",
      "       [0, 0, 1],\n",
      "       [3, 0, 1],\n",
      "       [3, 0, 1],\n",
      "       [3, 0, 1],\n",
      "       [3, 0, 1],\n",
      "       [3, 0, 1],\n",
      "       [3, 0, 1],\n",
      "       [0, 0, 1],\n",
      "       [0, 0, 1],\n",
      "       [3, 0, 1],\n",
      "       [3, 0, 1],\n",
      "       [3, 0, 1],\n",
      "       [3, 0, 1],\n",
      "       [3, 0, 1],\n",
      "       [3, 0, 1],\n",
      "       [3, 0, 1],\n",
      "       [3, 0, 1]]), 'node_feat': array([[7, 0, 1, 5, 0, 0, 1, 0, 0],\n",
      "       [5, 0, 3, 5, 0, 0, 1, 0, 0],\n",
      "       [6, 0, 3, 5, 1, 0, 1, 0, 0],\n",
      "       [6, 0, 3, 5, 1, 0, 1, 0, 0],\n",
      "       [5, 0, 3, 5, 0, 0, 1, 0, 0],\n",
      "       [7, 0, 1, 5, 0, 0, 1, 0, 0],\n",
      "       [5, 0, 3, 5, 0, 0, 1, 1, 1],\n",
      "       [5, 0, 3, 5, 1, 0, 1, 1, 1],\n",
      "       [5, 0, 3, 5, 1, 0, 1, 1, 1],\n",
      "       [5, 0, 3, 5, 1, 0, 1, 1, 1],\n",
      "       [5, 0, 3, 5, 1, 0, 1, 1, 1],\n",
      "       [5, 0, 3, 5, 0, 0, 1, 1, 1],\n",
      "       [7, 0, 2, 5, 1, 0, 1, 0, 0],\n",
      "       [5, 0, 3, 5, 0, 0, 1, 1, 1],\n",
      "       [5, 0, 3, 5, 1, 0, 1, 1, 1],\n",
      "       [5, 0, 3, 5, 1, 0, 1, 1, 1],\n",
      "       [5, 0, 3, 5, 0, 0, 1, 1, 1],\n",
      "       [7, 0, 2, 5, 1, 0, 1, 0, 0],\n",
      "       [5, 0, 3, 5, 1, 0, 1, 1, 1],\n",
      "       [5, 0, 3, 5, 1, 0, 1, 1, 1]]), 'num_nodes': 20}\n"
     ]
    }
   ],
   "source": [
    "from ogb.utils import smiles2graph\n",
    "graph = smiles2graph(smiles)\n",
    "print(graph)"
   ]
  },
  {
   "cell_type": "code",
   "execution_count": 179,
   "metadata": {},
   "outputs": [
    {
     "name": "stdout",
     "output_type": "stream",
     "text": [
      "dict_keys(['edge_index', 'edge_feat', 'node_feat', 'num_nodes'])\n",
      "\n",
      "================================================================================\n",
      "\n",
      "node_feat.shape=(20, 9) : (num_atoms, atomfeat_dim), representing atom features\n",
      "node_feat=array([[7, 0, 1, 5, 0, 0, 1, 0, 0],\n",
      "       [5, 0, 3, 5, 0, 0, 1, 0, 0],\n",
      "       [6, 0, 3, 5, 1, 0, 1, 0, 0],\n",
      "       [6, 0, 3, 5, 1, 0, 1, 0, 0],\n",
      "       [5, 0, 3, 5, 0, 0, 1, 0, 0],\n",
      "       [7, 0, 1, 5, 0, 0, 1, 0, 0],\n",
      "       [5, 0, 3, 5, 0, 0, 1, 1, 1],\n",
      "       [5, 0, 3, 5, 1, 0, 1, 1, 1],\n",
      "       [5, 0, 3, 5, 1, 0, 1, 1, 1],\n",
      "       [5, 0, 3, 5, 1, 0, 1, 1, 1],\n",
      "       [5, 0, 3, 5, 1, 0, 1, 1, 1],\n",
      "       [5, 0, 3, 5, 0, 0, 1, 1, 1],\n",
      "       [7, 0, 2, 5, 1, 0, 1, 0, 0],\n",
      "       [5, 0, 3, 5, 0, 0, 1, 1, 1],\n",
      "       [5, 0, 3, 5, 1, 0, 1, 1, 1],\n",
      "       [5, 0, 3, 5, 1, 0, 1, 1, 1],\n",
      "       [5, 0, 3, 5, 0, 0, 1, 1, 1],\n",
      "       [7, 0, 2, 5, 1, 0, 1, 0, 0],\n",
      "       [5, 0, 3, 5, 1, 0, 1, 1, 1],\n",
      "       [5, 0, 3, 5, 1, 0, 1, 1, 1]])\n",
      "\n",
      "================================================================================\n",
      "\n",
      "edge_feat.shape=(42, 3) :  (num_bonds, bondfeat_dim), representing chemical bond features\n",
      "edge_feat=array([[1, 0, 1],\n",
      "       [1, 0, 1],\n",
      "       [0, 0, 1],\n",
      "       [0, 0, 1],\n",
      "       [0, 0, 0],\n",
      "       [0, 0, 0],\n",
      "       [0, 0, 1],\n",
      "       [0, 0, 1],\n",
      "       [1, 0, 1],\n",
      "       [1, 0, 1],\n",
      "       [0, 0, 1],\n",
      "       [0, 0, 1],\n",
      "       [3, 0, 1],\n",
      "       [3, 0, 1],\n",
      "       [3, 0, 1],\n",
      "       [3, 0, 1],\n",
      "       [3, 0, 1],\n",
      "       [3, 0, 1],\n",
      "       [3, 0, 1],\n",
      "       [3, 0, 1],\n",
      "       [3, 0, 1],\n",
      "       [3, 0, 1],\n",
      "       [0, 0, 1],\n",
      "       [0, 0, 1],\n",
      "       [0, 0, 1],\n",
      "       [0, 0, 1],\n",
      "       [3, 0, 1],\n",
      "       [3, 0, 1],\n",
      "       [3, 0, 1],\n",
      "       [3, 0, 1],\n",
      "       [3, 0, 1],\n",
      "       [3, 0, 1],\n",
      "       [0, 0, 1],\n",
      "       [0, 0, 1],\n",
      "       [3, 0, 1],\n",
      "       [3, 0, 1],\n",
      "       [3, 0, 1],\n",
      "       [3, 0, 1],\n",
      "       [3, 0, 1],\n",
      "       [3, 0, 1],\n",
      "       [3, 0, 1],\n",
      "       [3, 0, 1]])\n",
      "\n",
      "================================================================================\n",
      "\n"
     ]
    }
   ],
   "source": [
    "print(graph.keys())\n",
    "\n",
    "line = \"\\n\" + \"=\" * 80 + \"\\n\"\n",
    "print(line)\n",
    "\n",
    "node_feat = graph[\"node_feat\"]\n",
    "# print(mol.GetNumAtoms())\n",
    "print(f\"{node_feat.shape=} : (num_atoms, atomfeat_dim), representing atom features\")\n",
    "print(f\"{node_feat=}\")\n",
    "\n",
    "print(line)\n",
    "\n",
    "edge_feat = graph[\"edge_feat\"]\n",
    "print(f\"{edge_feat.shape=} :  (num_bonds, bondfeat_dim), representing chemical bond features\")\n",
    "print(f\"{edge_feat=}\")\n",
    "\n",
    "print(line)"
   ]
  },
  {
   "cell_type": "code",
   "execution_count": 185,
   "metadata": {},
   "outputs": [
    {
     "name": "stdout",
     "output_type": "stream",
     "text": [
      "\n",
      "================================================================================\n",
      "\n",
      "tensor([[[[ 0.0289,  0.1539, -0.0750,  ..., -0.0235,  0.0056,  0.1364],\n",
      "          [ 0.0637, -0.1300, -0.0063,  ..., -0.0075,  0.0160,  0.0339],\n",
      "          [ 0.0120,  0.0320,  0.0470,  ..., -0.0419,  0.0892, -0.0123],\n",
      "          ...,\n",
      "          [ 0.0120,  0.0320,  0.0470,  ..., -0.0419,  0.0892, -0.0123],\n",
      "          [ 0.0637, -0.1300, -0.0063,  ..., -0.0075,  0.0160,  0.0339],\n",
      "          [ 0.0637, -0.1300, -0.0063,  ..., -0.0075,  0.0160,  0.0339]],\n",
      "\n",
      "         [[ 0.0585, -0.0566,  0.1338,  ..., -0.1395, -0.0991, -0.0450],\n",
      "          [ 0.0637, -0.1300, -0.0063,  ..., -0.0075,  0.0160,  0.0339],\n",
      "          [ 0.0142, -0.0852, -0.0968,  ..., -0.1427,  0.1443, -0.0203],\n",
      "          ...,\n",
      "          [ 0.0120,  0.0320,  0.0470,  ..., -0.0419,  0.0892, -0.0123],\n",
      "          [ 0.0637, -0.1300, -0.0063,  ..., -0.0075,  0.0160,  0.0339],\n",
      "          [ 0.0637, -0.1300, -0.0063,  ..., -0.0075,  0.0160,  0.0339]],\n",
      "\n",
      "         [[ 0.0139,  0.0246, -0.0932,  ..., -0.0765,  0.1417,  0.0655],\n",
      "          [ 0.0637, -0.1300, -0.0063,  ..., -0.0075,  0.0160,  0.0339],\n",
      "          [ 0.0142, -0.0852, -0.0968,  ..., -0.1427,  0.1443, -0.0203],\n",
      "          ...,\n",
      "          [ 0.0120,  0.0320,  0.0470,  ..., -0.0419,  0.0892, -0.0123],\n",
      "          [ 0.0637, -0.1300, -0.0063,  ..., -0.0075,  0.0160,  0.0339],\n",
      "          [ 0.0637, -0.1300, -0.0063,  ..., -0.0075,  0.0160,  0.0339]],\n",
      "\n",
      "         ...,\n",
      "\n",
      "         [[ 0.0289,  0.1539, -0.0750,  ..., -0.0235,  0.0056,  0.1364],\n",
      "          [ 0.0637, -0.1300, -0.0063,  ..., -0.0075,  0.0160,  0.0339],\n",
      "          [-0.0052,  0.1205,  0.1079,  ..., -0.0827, -0.0475, -0.0086],\n",
      "          ...,\n",
      "          [ 0.0120,  0.0320,  0.0470,  ..., -0.0419,  0.0892, -0.0123],\n",
      "          [ 0.0637, -0.1300, -0.0063,  ..., -0.0075,  0.0160,  0.0339],\n",
      "          [ 0.0637, -0.1300, -0.0063,  ..., -0.0075,  0.0160,  0.0339]],\n",
      "\n",
      "         [[ 0.0585, -0.0566,  0.1338,  ..., -0.1395, -0.0991, -0.0450],\n",
      "          [ 0.0637, -0.1300, -0.0063,  ..., -0.0075,  0.0160,  0.0339],\n",
      "          [ 0.0142, -0.0852, -0.0968,  ..., -0.1427,  0.1443, -0.0203],\n",
      "          ...,\n",
      "          [ 0.0120,  0.0320,  0.0470,  ..., -0.0419,  0.0892, -0.0123],\n",
      "          [ 0.0120,  0.0320,  0.0470,  ..., -0.0419,  0.0892, -0.0123],\n",
      "          [ 0.0120,  0.0320,  0.0470,  ..., -0.0419,  0.0892, -0.0123]],\n",
      "\n",
      "         [[ 0.0585, -0.0566,  0.1338,  ..., -0.1395, -0.0991, -0.0450],\n",
      "          [ 0.0637, -0.1300, -0.0063,  ..., -0.0075,  0.0160,  0.0339],\n",
      "          [ 0.0142, -0.0852, -0.0968,  ..., -0.1427,  0.1443, -0.0203],\n",
      "          ...,\n",
      "          [ 0.0120,  0.0320,  0.0470,  ..., -0.0419,  0.0892, -0.0123],\n",
      "          [ 0.0120,  0.0320,  0.0470,  ..., -0.0419,  0.0892, -0.0123],\n",
      "          [ 0.0120,  0.0320,  0.0470,  ..., -0.0419,  0.0892, -0.0123]]]],\n",
      "       grad_fn=<AddBackward0>)\n",
      "\n",
      "================================================================================\n",
      "\n",
      "tensor([[[[-0.1621, -0.1268, -0.2127,  ...,  0.1433, -0.1206,  0.1907],\n",
      "          [-0.0256,  0.2034,  0.0430,  ...,  0.1148,  0.0044,  0.1038],\n",
      "          [-0.1621, -0.1268, -0.2127,  ...,  0.1433, -0.1206,  0.1907]],\n",
      "\n",
      "         [[-0.1621, -0.1268, -0.2127,  ...,  0.1433, -0.1206,  0.1907],\n",
      "          [-0.0256,  0.2034,  0.0430,  ...,  0.1148,  0.0044,  0.1038],\n",
      "          [-0.1621, -0.1268, -0.2127,  ...,  0.1433, -0.1206,  0.1907]],\n",
      "\n",
      "         [[-0.0256,  0.2034,  0.0430,  ...,  0.1148,  0.0044,  0.1038],\n",
      "          [-0.0256,  0.2034,  0.0430,  ...,  0.1148,  0.0044,  0.1038],\n",
      "          [-0.1621, -0.1268, -0.2127,  ...,  0.1433, -0.1206,  0.1907]],\n",
      "\n",
      "         ...,\n",
      "\n",
      "         [[ 0.1522,  0.1303, -0.0829,  ..., -0.1506,  0.2279, -0.1014],\n",
      "          [-0.0256,  0.2034,  0.0430,  ...,  0.1148,  0.0044,  0.1038],\n",
      "          [-0.1621, -0.1268, -0.2127,  ...,  0.1433, -0.1206,  0.1907]],\n",
      "\n",
      "         [[ 0.1522,  0.1303, -0.0829,  ..., -0.1506,  0.2279, -0.1014],\n",
      "          [-0.0256,  0.2034,  0.0430,  ...,  0.1148,  0.0044,  0.1038],\n",
      "          [-0.1621, -0.1268, -0.2127,  ...,  0.1433, -0.1206,  0.1907]],\n",
      "\n",
      "         [[ 0.1522,  0.1303, -0.0829,  ..., -0.1506,  0.2279, -0.1014],\n",
      "          [-0.0256,  0.2034,  0.0430,  ...,  0.1148,  0.0044,  0.1038],\n",
      "          [-0.1621, -0.1268, -0.2127,  ...,  0.1433, -0.1206,  0.1907]]]],\n",
      "       grad_fn=<AddBackward0>)\n",
      "\n",
      "================================================================================\n",
      "\n"
     ]
    }
   ],
   "source": [
    "from ogb.graphproppred.mol_encoder import AtomEncoder, BondEncoder\n",
    "from torch import Tensor\n",
    "atom_encoder = AtomEncoder(emb_dim = 100)\n",
    "bond_encoder = BondEncoder(emb_dim = 100)\n",
    "\n",
    "# expects a batch\n",
    "node_feats = Tensor(node_feat).int().unsqueeze(dim=0).unsqueeze(dim=0)\n",
    "edge_feats = Tensor(edge_feat).int().unsqueeze(dim=0).unsqueeze(dim=0)\n",
    "\n",
    "atom_emb = atom_encoder(node_feats)\n",
    "edge_emb = bond_encoder(edge_feats)\n",
    "\n",
    "print(line)\n",
    "\n",
    "print(atom_emb)\n",
    "\n",
    "print(line)\n",
    "\n",
    "print(edge_emb)\n",
    "\n",
    "print(line)"
   ]
  }
 ],
 "metadata": {
  "kernelspec": {
   "display_name": "fob",
   "language": "python",
   "name": "python3"
  },
  "language_info": {
   "codemirror_mode": {
    "name": "ipython",
    "version": 3
   },
   "file_extension": ".py",
   "mimetype": "text/x-python",
   "name": "python",
   "nbconvert_exporter": "python",
   "pygments_lexer": "ipython3",
   "version": "3.10.13"
  }
 },
 "nbformat": 4,
 "nbformat_minor": 2
}
